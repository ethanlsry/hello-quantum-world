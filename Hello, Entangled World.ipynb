{
 "cells": [
  {
   "cell_type": "markdown",
   "id": "274fdb46-27aa-4540-bf47-9fa757c14c08",
   "metadata": {},
   "source": [
    "# Hello, Entangled World\n",
    "\n",
    "As an example of how we can work with two qubits in Qiskit, we are going to implement a circuit that prepares an entangled state (a Bell pair)"
   ]
  },
  {
   "cell_type": "code",
   "execution_count": 62,
   "id": "57f77cc0-0eca-4da3-a724-8998dd30ea60",
   "metadata": {},
   "outputs": [],
   "source": [
    "#imports\n",
    "%matplotlib inline\n",
    "\n",
    "from qiskit import *\n",
    "from qiskit.visualization import *\n",
    "from qiskit.tools.monitor import *"
   ]
  },
  {
   "cell_type": "code",
   "execution_count": 63,
   "id": "1a9f646e-a41a-4eae-b45c-0f9a433d7d3b",
   "metadata": {},
   "outputs": [
    {
     "data": {
      "image/png": "[encoded data removed]",
      "text/plain": [
       "<Figure size 267.052x204.68 with 1 Axes>"
      ]
     },
     "execution_count": 63,
     "metadata": {},
     "output_type": "execute_result"
    }
   ],
   "source": [
    "qc = QuantumCircuit(2,2) #create quantum circuit with two qubits and two␣ ↪classical bits\n",
    "\n",
    "\n",
    "qc.h(0) # Apply H-gate to firt qubit to create superposition\n",
    "qc.cx(0,1) #Apply CNOT gate to first qubit to entangle it with second qubit qc.measure(range(2),range(2)) #measure each qubit\n",
    "qc.draw() #draw circuit"
   ]
  },
  {
   "attachments": {},
   "cell_type": "markdown",
   "id": "56797997-7036-4760-95b8-2bb9f5a58945",
   "metadata": {},
   "source": [
    "Execute the circuit 4000 times and print the results"
   ]
  },
  {
   "cell_type": "code",
   "execution_count": 64,
   "id": "c9e96221-4111-4c9f-98ee-09db1b13cb18",
   "metadata": {},
   "outputs": [
    {
     "name": "stdout",
     "output_type": "stream",
     "text": [
      "{'1': 493, '0': 507}\n"
     ]
    },
    {
     "data": {
      "image/png": "[encoded data removed]",
      "text/plain": [
       "<Figure size 504x360 with 1 Axes>"
      ]
     },
     "execution_count": 64,
     "metadata": {},
     "output_type": "execute_result"
    }
   ],
   "source": [
    "backend_sim = Aer.get_backend('qasm_simulator') # choose local simulator as␣ ↪backend\n",
    "job_sim = execute(qc, backend_sim, shots=4000) #execute 4000 times result_sim = job_sim.result() # collect results\n",
    "counts = result_sim.get_counts(qc) # get and visualize result frequency print(counts)\n",
    "plot_histogram(counts)"
   ]
  },
  {
   "attachments": {},
   "cell_type": "markdown",
   "id": "7b42bfa9-b058-4c62-8bbe-fc797ca3513f",
   "metadata": {},
   "source": [
    "Directly access the amplitudes and probabilities of the states. Remove the measurement and use the statevector simulator."
   ]
  },
  {
   "cell_type": "code",
   "execution_count": 65,
   "id": "15f1f505-e6f4-47e4-bb00-b082e04787d3",
   "metadata": {},
   "outputs": [
    {
     "name": "stdout",
     "output_type": "stream",
     "text": [
      "Statevector([0.70710678+0.j, 0.        +0.j, 0.        +0.j,\n",
      "             0.70710678+0.j],\n",
      "            dims=(2, 2))\n"
     ]
    }
   ],
   "source": [
    "qc_2 = QuantumCircuit(2,2) #create a similar quantum circuit without measurement qc_2.h(0) # Apply H-gate to firt qubit to create superposition\n",
    "qc_2.cx(0,1) #Apply CNOT gate to first qubit to entangle it with second qubit\n",
    "\n",
    "backend_sim_statevec = Aer.get_backend('statevector_simulator') # select␣ ↪statevector simulator as backend\n",
    "job_sim_2 = execute(qc_2, backend_sim_statevec) #execute simulator result_sim_2 = job_sim_2.result() # collect results\n",
    "counts_2 = result_sim_2.get_counts(qc_2) # get and visualize result frequency outputstate = result_sim_2.get_statevector(qc_2)\n",
    "print(outputstate)"
   ]
  },
  {
   "attachments": {},
   "cell_type": "markdown",
   "id": "00bd0681-d3fb-48a5-a7de-a1c2ddface04",
   "metadata": {},
   "source": [
    "Run the circuit on an actual computer. To reducet the wait, exercute on the computer with the fewest pending jobs. Let's check their properties, after loading my account, with the order backend_overview()"
   ]
  },
  {
   "cell_type": "code",
   "execution_count": 66,
   "id": "6496e837-ae33-4884-b761-456527195159",
   "metadata": {},
   "outputs": [
    {
     "name": "stderr",
     "output_type": "stream",
     "text": [
      "ibmqfactory.load_account:WARNING:2022-12-07 17:34:47,364: Credentials are already in use. The existing account in the session will be replaced.\n"
     ]
    },
    {
     "name": "stdout",
     "output_type": "stream",
     "text": [
      "ibm_oslo                     ibm_nairobi                  ibmq_manila\n",
      "--------                     -----------                  -----------\n",
      "Num. Qubits:  7              Num. Qubits:  7              Num. Qubits:  5\n",
      "Pending Jobs: 29             Pending Jobs: 22             Pending Jobs: 21\n",
      "Least busy:   False          Least busy:   False          Least busy:   False\n",
      "Operational:  True           Operational:  True           Operational:  True\n",
      "Avg. T1:      149.3          Avg. T1:      114.6          Avg. T1:      181.8\n",
      "Avg. T2:      79.2           Avg. T2:      88.9           Avg. T2:      58.3\n",
      "\n",
      "\n",
      "\n",
      "ibmq_quito                   ibmq_belem                  ibmq_lima\n",
      "----------                   ----------                  ---------\n",
      "Num. Qubits:  5              Num. Qubits:  5             Num. Qubits:  5\n",
      "Pending Jobs: 18             Pending Jobs: 1             Pending Jobs: 78\n",
      "Least busy:   False          Least busy:   True          Least busy:   False\n",
      "Operational:  True           Operational:  True          Operational:  True\n",
      "Avg. T1:      86.4           Avg. T1:      76.6          Avg. T1:      79.4\n",
      "Avg. T2:      85.3           Avg. T2:      81.2          Avg. T2:      98.3\n",
      "\n",
      "\n",
      "\n"
     ]
    }
   ],
   "source": [
    "provider = IBMQ.load_account()\n",
    "backend_overview()"
   ]
  },
  {
   "attachments": {},
   "cell_type": "markdown",
   "id": "9b8a2585-8563-4fb1-8e13-cf927f7e0e06",
   "metadata": {},
   "source": [
    "Access more details of a particular computer with the following command:"
   ]
  },
  {
   "cell_type": "code",
   "execution_count": 67,
   "id": "6c5a1e1d-9ddc-456a-b41e-82d57c6e42e9",
   "metadata": {},
   "outputs": [
    {
     "name": "stdout",
     "output_type": "stream",
     "text": [
      "ibmq_belem\n",
      "==========\n",
      "Configuration\n",
      "-------------\n",
      "    n_qubits: 5\n",
      "    operational: True\n",
      "    status_msg: active\n",
      "    pending_jobs: 1\n",
      "    backend_version: 1.0.52\n",
      "    basis_gates: ['id', 'rz', 'sx', 'x', 'cx', 'reset']\n",
      "    local: False\n",
      "    simulator: False\n",
      "    sample_name: family: Falcon, revision: 4, segment: T\n",
      "    meas_map: [[0, 1, 2, 3, 4]]\n",
      "    dynamic_reprate_enabled: True\n",
      "    url: None\n",
      "    rep_delay_range: [0.0, 500.0]\n",
      "    pulse_num_channels: 9\n",
      "    live_data: False\n",
      "    allow_object_storage: True\n",
      "    n_uchannels: 8\n",
      "    qubit_lo_range: [[4.590214309124385, 5.590214309124385], [4.745527978802157, 5.745527978802157], [4.861500429712459, 5.861500429712459], [4.670321749733135, 5.670321749733135], [4.758434047927452, 5.758434047927452]]\n",
      "    n_registers: 1\n",
      "    quantum_volume: 16\n",
      "    input_allowed: ['job', 'runtime']\n",
      "    meas_levels: [1, 2]\n",
      "    dtm: 0.2222222222222222\n",
      "    memory: True\n",
      "    max_shots: 20000\n",
      "    conditional: False\n",
      "    u_channel_lo: [[{'q': 1, 'scale': (1+0j)}], [{'q': 0, 'scale': (1+0j)}], [{'q': 2, 'scale': (1+0j)}], [{'q': 3, 'scale': (1+0j)}], [{'q': 1, 'scale': (1+0j)}], [{'q': 1, 'scale': (1+0j)}], [{'q': 4, 'scale': (1+0j)}], [{'q': 3, 'scale': (1+0j)}]]\n",
      "    max_experiments: 100\n",
      "    dt: 0.2222222222222222\n",
      "    online_date: 2021-01-08 05:00:00+00:00\n",
      "    multi_meas_enabled: True\n",
      "    meas_kernels: ['hw_boxcar']\n",
      "    credits_required: True\n",
      "    supported_features: ['qobj']\n",
      "    supported_instructions: ['u1', 'play', 'cx', 'u2', 'rz', 'reset', 'id', 'measure', 'delay', 'u3', 'x', 'acquire', 'sx', 'setf', 'shiftf']\n",
      "    uchannels_enabled: True\n",
      "    coupling_map: [[0, 1], [1, 0], [1, 2], [1, 3], [2, 1], [3, 1], [3, 4], [4, 3]]\n",
      "    pulse_num_qubits: 3\n",
      "    conditional_latency: []\n",
      "    meas_lo_range: [[6.801574705, 7.801574705], [6.8934333720000005, 7.8934333720000005], [6.860065181, 7.860065181], [6.8033823270000005, 7.8033823270000005], [6.926223338000001, 7.926223338000001]]\n",
      "    rep_times: [1000.0]\n",
      "    default_rep_delay: 250.0\n",
      "    description: 5 qubit device Belem\n",
      "    parametric_pulses: ['gaussian', 'gaussian_square', 'drag', 'constant']\n",
      "    hamiltonian: {'description': 'Qubits are modeled as Duffing oscillators. In this case, the system includes higher energy states, i.e. not just |0> and |1>. The Pauli operators are generalized via the following set of transformations:\\n\\n$(\\\\mathbb{I}-\\\\sigma_{i}^z)/2 \\\\rightarrow O_i \\\\equiv b^\\\\dagger_{i} b_{i}$,\\n\\n$\\\\sigma_{+} \\\\rightarrow b^\\\\dagger$,\\n\\n$\\\\sigma_{-} \\\\rightarrow b$,\\n\\n$\\\\sigma_{i}^X \\\\rightarrow b^\\\\dagger_{i} + b_{i}$.\\n\\nQubits are coupled through resonator buses. The provided Hamiltonian has been projected into the zero excitation subspace of the resonator buses leading to an effective qubit-qubit flip-flop interaction. The qubit resonance frequencies in the Hamiltonian are the cavity dressed frequencies and not exactly what is returned by the backend defaults, which also includes the dressing due to the qubit-qubit interactions.\\n\\nQuantities are returned in angular frequencies, with units 2*pi*GHz.\\n\\nWARNING: Currently not all system Hamiltonian information is available to the public, missing values have been replaced with 0.\\n', 'h_latex': '\\\\begin{align} \\\\mathcal{H}/\\\\hbar = & \\\\sum_{i=0}^{4}\\\\left(\\\\frac{\\\\omega_{q,i}}{2}(\\\\mathbb{I}-\\\\sigma_i^{z})+\\\\frac{\\\\Delta_{i}}{2}(O_i^2-O_i)+\\\\Omega_{d,i}D_i(t)\\\\sigma_i^{X}\\\\right) \\\\\\\\ & + J_{0,1}(\\\\sigma_{0}^{+}\\\\sigma_{1}^{-}+\\\\sigma_{0}^{-}\\\\sigma_{1}^{+}) + J_{1,2}(\\\\sigma_{1}^{+}\\\\sigma_{2}^{-}+\\\\sigma_{1}^{-}\\\\sigma_{2}^{+}) + J_{1,3}(\\\\sigma_{1}^{+}\\\\sigma_{3}^{-}+\\\\sigma_{1}^{-}\\\\sigma_{3}^{+}) + J_{3,4}(\\\\sigma_{3}^{+}\\\\sigma_{4}^{-}+\\\\sigma_{3}^{-}\\\\sigma_{4}^{+}) \\\\\\\\ & + \\\\Omega_{d,0}(U_{0}^{(0,1)}(t))\\\\sigma_{0}^{X} + \\\\Omega_{d,1}(U_{1}^{(1,0)}(t)+U_{3}^{(1,3)}(t)+U_{2}^{(1,2)}(t))\\\\sigma_{1}^{X} \\\\\\\\ & + \\\\Omega_{d,2}(U_{4}^{(2,1)}(t))\\\\sigma_{2}^{X} + \\\\Omega_{d,3}(U_{6}^{(3,4)}(t)+U_{5}^{(3,1)}(t))\\\\sigma_{3}^{X} \\\\\\\\ & + \\\\Omega_{d,4}(U_{7}^{(4,3)}(t))\\\\sigma_{4}^{X} \\\\\\\\ \\\\end{align}', 'h_str': ['_SUM[i,0,4,wq{i}/2*(I{i}-Z{i})]', '_SUM[i,0,4,delta{i}/2*O{i}*O{i}]', '_SUM[i,0,4,-delta{i}/2*O{i}]', '_SUM[i,0,4,omegad{i}*X{i}||D{i}]', 'jq0q1*Sp0*Sm1', 'jq0q1*Sm0*Sp1', 'jq1q2*Sp1*Sm2', 'jq1q2*Sm1*Sp2', 'jq1q3*Sp1*Sm3', 'jq1q3*Sm1*Sp3', 'jq3q4*Sp3*Sm4', 'jq3q4*Sm3*Sp4', 'omegad1*X0||U0', 'omegad0*X1||U1', 'omegad3*X1||U3', 'omegad2*X1||U2', 'omegad1*X2||U4', 'omegad4*X3||U6', 'omegad1*X3||U5', 'omegad3*X4||U7'], 'osc': {}, 'qub': {'0': 3, '1': 3, '2': 3, '3': 3, '4': 3}, 'vars': {'delta0': -2.1119231275656283, 'delta1': -1.989081364755034, 'delta2': -2.0773937776320905, 'delta3': -2.096945401946966, 'delta4': -2.0819029355928373, 'jq0q1': 0.011772262300160973, 'jq1q2': 0.012605700949390706, 'jq1q3': 0.012591488659137172, 'jq3q4': 0.01051661912410011, 'omegad0': 0.748689075772865, 'omegad1': 0.7768484693652861, 'omegad2': 1.8877633578598603, 'omegad3': 0.7360568008374926, 'omegad4': 0.017789833164454608, 'wq0': 31.982759757485624, 'wq1': 32.95862432480914, 'wq2': 33.687300724406356, 'wq3': 32.48608965131428, 'wq4': 33.03971554871064}}\n",
      "    parallel_compilation: False\n",
      "    allow_q_object: True\n",
      "    backend_name: ibmq_belem\n",
      "    open_pulse: False\n",
      "    channels: {'acquire0': {'operates': {'qubits': [0]}, 'purpose': 'acquire', 'type': 'acquire'}, 'acquire1': {'operates': {'qubits': [1]}, 'purpose': 'acquire', 'type': 'acquire'}, 'acquire2': {'operates': {'qubits': [2]}, 'purpose': 'acquire', 'type': 'acquire'}, 'acquire3': {'operates': {'qubits': [3]}, 'purpose': 'acquire', 'type': 'acquire'}, 'acquire4': {'operates': {'qubits': [4]}, 'purpose': 'acquire', 'type': 'acquire'}, 'd0': {'operates': {'qubits': [0]}, 'purpose': 'drive', 'type': 'drive'}, 'd1': {'operates': {'qubits': [1]}, 'purpose': 'drive', 'type': 'drive'}, 'd2': {'operates': {'qubits': [2]}, 'purpose': 'drive', 'type': 'drive'}, 'd3': {'operates': {'qubits': [3]}, 'purpose': 'drive', 'type': 'drive'}, 'd4': {'operates': {'qubits': [4]}, 'purpose': 'drive', 'type': 'drive'}, 'm0': {'operates': {'qubits': [0]}, 'purpose': 'measure', 'type': 'measure'}, 'm1': {'operates': {'qubits': [1]}, 'purpose': 'measure', 'type': 'measure'}, 'm2': {'operates': {'qubits': [2]}, 'purpose': 'measure', 'type': 'measure'}, 'm3': {'operates': {'qubits': [3]}, 'purpose': 'measure', 'type': 'measure'}, 'm4': {'operates': {'qubits': [4]}, 'purpose': 'measure', 'type': 'measure'}, 'u0': {'operates': {'qubits': [0, 1]}, 'purpose': 'cross-resonance', 'type': 'control'}, 'u1': {'operates': {'qubits': [1, 0]}, 'purpose': 'cross-resonance', 'type': 'control'}, 'u2': {'operates': {'qubits': [1, 2]}, 'purpose': 'cross-resonance', 'type': 'control'}, 'u3': {'operates': {'qubits': [1, 3]}, 'purpose': 'cross-resonance', 'type': 'control'}, 'u4': {'operates': {'qubits': [2, 1]}, 'purpose': 'cross-resonance', 'type': 'control'}, 'u5': {'operates': {'qubits': [3, 1]}, 'purpose': 'cross-resonance', 'type': 'control'}, 'u6': {'operates': {'qubits': [3, 4]}, 'purpose': 'cross-resonance', 'type': 'control'}, 'u7': {'operates': {'qubits': [4, 3]}, 'purpose': 'cross-resonance', 'type': 'control'}}\n",
      "    timing_constraints: {'acquire_alignment': 16, 'granularity': 16, 'min_length': 64, 'pulse_alignment': 1}\n",
      "    processor_type: {'family': 'Falcon', 'revision': 4, 'segment': 'T'}\n",
      "    qubit_channel_mapping: [['d0', 'm0', 'u0', 'u1'], ['u1', 'u2', 'm1', 'u4', 'u3', 'u5', 'd1', 'u0'], ['u4', 'm2', 'u2', 'd2'], ['u7', 'd3', 'u6', 'm3', 'u3', 'u5'], ['d4', 'u7', 'u6', 'm4']]\n",
      "    discriminators: ['hw_centroid', 'quadratic_discriminator', 'linear_discriminator']\n",
      "    acquisition_latency: []\n",
      "    clops: 2454\n",
      "    measure_esp_enabled: False\n",
      "\n",
      "Qubits [Name / Freq / T1 / T2 / RZ err / SX err / X err / Readout err]\n",
      "----------------------------------------------------------------------\n",
      "    Q0 / 5.09021 GHz / 29.48578 us / 53.36502 us / 0.00000 / 0.00035 / 0.00035 / 0.04340 \n",
      "    Q1 / 5.24553 GHz / 112.33161 us / 59.77791 us / 0.00000 / 0.00028 / 0.00028 / 0.03060 \n",
      "    Q2 / 5.36150 GHz / 59.19196 us / 56.09256 us / 0.00000 / 0.00029 / 0.00029 / 0.02970 \n",
      "    Q3 / 5.17032 GHz / 85.43502 us / 130.07263 us / 0.00000 / 0.00027 / 0.00027 / 0.03010 \n",
      "    Q4 / 5.25843 GHz / 96.33068 us / 106.51667 us / 0.00000 / 0.00249 / 0.00249 / 0.04980 \n",
      "\n",
      "Multi-Qubit Gates [Name / Type / Gate Error]\n",
      "--------------------------------------------\n",
      "    cx4_3 / cx / 0.02890\n",
      "    cx3_4 / cx / 0.02890\n",
      "    cx3_1 / cx / 0.00766\n",
      "    cx1_3 / cx / 0.00766\n",
      "    cx2_1 / cx / 0.00877\n",
      "    cx1_2 / cx / 0.00877\n",
      "    cx1_0 / cx / 0.01877\n",
      "    cx0_1 / cx / 0.01877\n"
     ]
    }
   ],
   "source": [
    "backend_monitor(provider.get_backend(\"ibmq_belem\"))"
   ]
  },
  {
   "attachments": {},
   "cell_type": "markdown",
   "id": "6ac2e8d5-a277-4124-b8e9-d633ff1e7b02",
   "metadata": {},
   "source": [
    "Select the least busy device and run our circuit on it."
   ]
  },
  {
   "cell_type": "code",
   "execution_count": 82,
   "id": "77063746-678b-46ad-b2be-bf8a86fa54c9",
   "metadata": {},
   "outputs": [
    {
     "name": "stdout",
     "output_type": "stream",
     "text": [
      "We are executign on... ibm_nairobi\n",
      "it has  5 pending jobs\n",
      "Job Status: job has successfully run\n"
     ]
    }
   ],
   "source": [
    "from qiskit.providers.ibmq import least_busy\n",
    "\n",
    "#we execute on the least busy device (among the actual quantum computers)\n",
    "backend = least_busy(provider.backends(operational = True, simulator=False,\n",
    "                                       status_msg='active',\n",
    "                                       filters=lambda x: x.configuration().n_qubits > 1))\n",
    "print(\"We are executign on...\",backend)\n",
    "print(\"it has \",backend.status().pending_jobs,\"pending jobs\")\n",
    "job_exp = execute(qc_2, backend=backend)\n",
    "job_monitor(job_exp)"
   ]
  },
  {
   "attachments": {},
   "cell_type": "markdown",
   "id": "396ae1bd-bc11-4450-be36-c9e467b1ecc4",
   "metadata": {},
   "source": [
    "Once I have run the job, draw the results and compare them to the one obtained by the simulator."
   ]
  },
  {
   "cell_type": "code",
   "execution_count": 83,
   "id": "6e102b87-390b-4c38-bea6-627c65d51baf",
   "metadata": {},
   "outputs": [
    {
     "data": {
      "image/png": "[encoded data removed]",
      "text/plain": [
       "<Figure size 504x360 with 1 Axes>"
      ]
     },
     "execution_count": 83,
     "metadata": {},
     "output_type": "execute_result"
    }
   ],
   "source": [
    "result_exp = job_exp.result()\n",
    "counts_exp = result_exp.get_counts(qc)\n",
    "plot_histogram([counts_exp,counts], legend=['Device', 'Simulator'])"
   ]
  },
  {
   "cell_type": "code",
   "execution_count": null,
   "id": "4be35d36-4304-4cc4-84a9-984d13d7db53",
   "metadata": {},
   "outputs": [],
   "source": [
    "#This plot shows a clear difference betweeen simulator results and quantum computer results. The simulator always measures the circuit in either |00> or |11> (both qubits measuring the same value). Each state ie measured about half the time. The quantum computer measures the circuit at either |00> or |11> mostly but not always. Around 10% of the time the |10> or |01> state is measured. This violates the bell state because qubits entangled through the CNOT gate in this experiment should always be in the same state. This violation is due to the fact that quantum computers, unlike classical simulators, are not ideal machines and can be subject to noise.dddd"
   ]
  },
  {
   "attachments": {},
   "cell_type": "markdown",
   "id": "6213e556",
   "metadata": {},
   "source": [
    "This plot shows a clear difference betweeen simulator results and quantum computer results. The simulator always measures the circuit in either |00> or |11> (both qubits measuring the same value). Each state ie measured about half the time. The quantum computer measures the circuit at either |00> or |11> mostly but not always. Around 10% of the time the |10> or |01> state is measured. This violates the bell state because qubits entangled through the CNOT gate in this experiment should always be in the same state. This violation is due to the fact that quantum computers, unlike classical simulators, are not ideal machines and can be subject to noise."
   ]
  },
  {
   "cell_type": "code",
   "execution_count": null,
   "id": "f002e38e",
   "metadata": {},
   "outputs": [],
   "source": [
    "#By performing this experiment I learned how to implement the theory of quantum superposition and entanglement using IBM qiskit. The qiskit library, which can be imported into any Python program, contains all the functions one needs to construct, simulate, and execute quantum circuits. I started by creating a two-qubit circuit with a classical bit, to which I applied an H gate to put the qubits in superposition. Next, I applied a CNOT gate to entangle the qubits and create a Bell state. I learned how to run this circuit using the local simulator, which uses my laptop CPU (classical computer, not quantum). I also learned how to run this experiment using a real quantum computer. I learned to browse available machines and pick the one with fewest jobs queued. I finally visualized the results of both methods using a histogram. This experiment reinforced my understanding of a Bell state as a two qubit system where the qubits are entangled with each other due to a CNOT gate. This experiment also helped me learn that while a classical simulator gives ideal results consistent with theory, quantum computers are subject to noise and give slightly less accurate results."
   ]
  },
  {
   "attachments": {},
   "cell_type": "markdown",
   "id": "982adece",
   "metadata": {},
   "source": [
    "By performing this experiment I learned how to implement the theory of quantum superposition and entanglement using IBM qiskit. The qiskit library, which can be imported into any Python program, contains all the functions one needs to construct, simulate, and execute quantum circuits. I started by creating a two-qubit circuit with a classical bit, to which I applied an H gate to put the qubits in superposition. Next, I applied a CNOT gate to entangle the qubits and create a Bell state. I learned how to run this circuit using the local simulator, which uses my laptop CPU (classical computer, not quantum). I also learned how to run this experiment using a real quantum computer. I learned to browse available machines and pick the one with fewest jobs queued. I finally visualized the results of both methods using a histogram. This experiment reinforced my understanding of a Bell state as a two qubit system where the qubits are entangled with each other due to a CNOT gate. This experiment also helped me learn that while a classical simulator gives ideal results consistent with theory, quantum computers are subject to noise and give slightly less accurate results."
   ]
  },
  {
   "cell_type": "markdown",
   "id": "c0dc4e2b",
   "metadata": {},
   "source": []
  }
 ],
 "metadata": {
  "kernelspec": {
   "display_name": "Python 3",
   "language": "python",
   "name": "python3"
  },
  "language_info": {
   "codemirror_mode": {
    "name": "ipython",
    "version": 3
   },
   "file_extension": ".py",
   "mimetype": "text/x-python",
   "name": "python",
   "nbconvert_exporter": "python",
   "pygments_lexer": "ipython3",
   "version": "3.10.0 (v3.10.0:b494f5935c, Oct  4 2021, 14:59:19) [Clang 12.0.5 (clang-1205.0.22.11)]"
  },
  "vscode": {
   "interpreter": {
    "hash": "aee8b7b246df8f9039afb4144a1f6fd8d2ca17a180786b69acc140d282b71a49"
   }
  },
  "widgets": {
   "application/vnd.jupyter.widget-state+json": {
    "state": {},
    "version_major": 2,
    "version_minor": 0
   }
  }
 },
 "nbformat": 4,
 "nbformat_minor": 5
}
